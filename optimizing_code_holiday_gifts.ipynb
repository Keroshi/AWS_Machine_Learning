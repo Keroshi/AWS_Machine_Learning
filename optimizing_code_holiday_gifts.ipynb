{
 "cells": [
  {
   "cell_type": "markdown",
   "metadata": {},
   "source": [
    "# Optimizing Code: Holiday Gifts\n",
    "In the last example, you learned that using vectorized operations and more efficient data structures can optimize your code. Let's use these tips for one more example.\n",
    "\n",
    "Say your online gift store has one million users that each listed a gift on a wish list. You have the prices for each of these gifts stored in `gift_costs.txt`. For the holidays, you're going to give each customer their wish list gift for free if it is under 25 dollars. Now, you want to calculate the total cost of all gifts under 25 dollars to see how much you'd spend on free gifts. Here's one way you could've done it."
   ]
  },
  {
   "cell_type": "code",
   "metadata": {
    "ExecuteTime": {
     "end_time": "2024-06-29T14:13:37.785560Z",
     "start_time": "2024-06-29T14:13:37.649654Z"
    }
   },
   "source": [
    "import time\n",
    "import numpy as np"
   ],
   "outputs": [],
   "execution_count": 1
  },
  {
   "cell_type": "code",
   "metadata": {
    "ExecuteTime": {
     "end_time": "2024-06-29T14:13:43.311711Z",
     "start_time": "2024-06-29T14:13:37.786912Z"
    }
   },
   "source": [
    "with open('gift_costs.txt') as f:\n",
    "    gift_costs = f.read().split('\\n')\n",
    "\n",
    "gift_costs = np.array(gift_costs).astype(int)  # convert string to int"
   ],
   "outputs": [],
   "execution_count": 2
  },
  {
   "cell_type": "code",
   "metadata": {
    "ExecuteTime": {
     "end_time": "2024-06-29T14:14:41.966077Z",
     "start_time": "2024-06-29T14:14:37.761222Z"
    }
   },
   "source": [
    "start = time.time()\n",
    "\n",
    "total_price = 0\n",
    "for cost in gift_costs:\n",
    "    if cost < 25:\n",
    "        total_price += cost * 1.08  # add cost after tax\n",
    "\n",
    "print(f\"Total Price: {round(total_price, 2)}\")\n",
    "print('Duration: {} seconds'.format(time.time() - start))"
   ],
   "outputs": [
    {
     "name": "stdout",
     "output_type": "stream",
     "text": [
      "Total Price: 32765421.24\n",
      "Duration: 4.189842939376831 seconds\n"
     ]
    }
   ],
   "execution_count": 4
  },
  {
   "cell_type": "markdown",
   "metadata": {},
   "source": [
    "Here you iterate through each cost in the list, and check if it's less than 25. If so, you add the cost to the total price after tax. This works, but there is a much faster way to do this. Can you refactor this to run under half a second?"
   ]
  },
  {
   "cell_type": "markdown",
   "metadata": {},
   "source": [
    "## Refactor Code\n",
    "**Hint:** Using numpy makes it very easy to select all the elements in an array that meet a certain condition, and then perform operations on them together all at once. You can them find the sum of what those values end up being."
   ]
  },
  {
   "cell_type": "code",
   "metadata": {
    "ExecuteTime": {
     "end_time": "2024-06-29T14:24:10.472778Z",
     "start_time": "2024-06-29T14:24:10.306309Z"
    }
   },
   "source": [
    "start = time.time()\n",
    "\n",
    "total_price = sum((gift_costs[gift_costs < 25])) * 1.08\n",
    "\n",
    "print(f\"Total Price: {round(total_price, 2)}\")\n",
    "print('Duration: {} seconds'.format(time.time() - start))"
   ],
   "outputs": [
    {
     "name": "stdout",
     "output_type": "stream",
     "text": [
      "Total Price: 32765421.24\n",
      "Duration: 0.16026878356933594 seconds\n"
     ]
    }
   ],
   "execution_count": 13
  },
  {
   "cell_type": "code",
   "metadata": {
    "ExecuteTime": {
     "end_time": "2024-06-29T14:23:40.040700Z",
     "start_time": "2024-06-29T14:23:39.970233Z"
    }
   },
   "source": [
    "start = time.time()\n",
    "\n",
    "total_price = (gift_costs[gift_costs < 25]).sum() * 1.08\n",
    "\n",
    "print(f\"Total Price: {round(total_price, 2)}\")\n",
    "print('Duration: {} seconds'.format(time.time() - start))"
   ],
   "outputs": [
    {
     "name": "stdout",
     "output_type": "stream",
     "text": [
      "Total Price: 32765421.24\n",
      "Duration: 0.06310915946960449 seconds\n"
     ]
    }
   ],
   "execution_count": 11
  }
 ],
 "metadata": {
  "kernelspec": {
   "display_name": "Python 3",
   "language": "python",
   "name": "python3"
  },
  "language_info": {
   "codemirror_mode": {
    "name": "ipython",
    "version": 3
   },
   "file_extension": ".py",
   "mimetype": "text/x-python",
   "name": "python",
   "nbconvert_exporter": "python",
   "pygments_lexer": "ipython3",
   "version": "3.6.3"
  }
 },
 "nbformat": 4,
 "nbformat_minor": 2
}
