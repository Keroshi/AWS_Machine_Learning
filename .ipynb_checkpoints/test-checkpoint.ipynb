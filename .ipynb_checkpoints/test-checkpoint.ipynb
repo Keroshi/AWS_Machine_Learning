{
 "cells": [
  {
   "metadata": {},
   "cell_type": "code",
   "outputs": [],
   "execution_count": null,
   "source": [
    "import numpy as np\n",
    "import IPython.display as display\n",
    "from matplotlib import pyplot as plt\n",
    "import io\n",
    "import base64"
   ],
   "id": "9b24e01ef3590f63"
  },
  {
   "metadata": {},
   "cell_type": "code",
   "outputs": [],
   "execution_count": null,
   "source": [
    "ys = 200 + np.random.randn(100)\n",
    "x = [x for x in range(len(ys))]"
   ],
   "id": "d691bd8d530c63e5"
  },
  {
   "metadata": {},
   "cell_type": "code",
   "outputs": [],
   "execution_count": null,
   "source": [
    "fig = plt.figure(figsize=(4, 3), facecolor='w')\n",
    "plt.plot(x, ys, '-')\n",
    "plt.fill_between(x, ys, 195, where=(ys > 195), facecolor='g', alpha=0.6)\n",
    "plt.title(\"Sample Visualization\", fontsize=10)"
   ],
   "id": "ebd8d36a8a863bf0"
  },
  {
   "metadata": {},
   "cell_type": "code",
   "outputs": [],
   "execution_count": null,
   "source": [
    "data = io.BytesIO()\n",
    "plt.savefig(data)\n",
    "image = F\"data:image/png;base64,{base64.b64encode(data.getvalue()).decode()}\"\n",
    "alt = \"Sample Visualization\"\n",
    "display.display(display.Markdown(F\"\"\"![{alt}]({image})\"\"\"))\n",
    "plt.close(fig)"
   ],
   "id": "48782d9236801822"
  }
 ],
 "metadata": {
  "kernelspec": {
   "display_name": "Python 3",
   "language": "python",
   "name": "python3"
  },
  "language_info": {
   "codemirror_mode": {
    "name": "ipython",
    "version": 2
   },
   "file_extension": ".py",
   "mimetype": "text/x-python",
   "name": "python",
   "nbconvert_exporter": "python",
   "pygments_lexer": "ipython2",
   "version": "2.7.6"
  }
 },
 "nbformat": 4,
 "nbformat_minor": 5
}
