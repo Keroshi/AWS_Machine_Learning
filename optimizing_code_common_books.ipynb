{
 "cells": [
  {
   "cell_type": "markdown",
   "metadata": {},
   "source": [
    "# Optimizing Code: Common Books\n",
    "Here's the code your coworker wrote to find the common book ids in `books_published_last_two_years.txt` and `all_coding_books.txt` to obtain a list of recent coding books."
   ]
  },
  {
   "cell_type": "code",
   "metadata": {
    "ExecuteTime": {
     "end_time": "2024-06-30T11:59:46.891702Z",
     "start_time": "2024-06-30T11:59:46.882872Z"
    }
   },
   "source": [
    "import time\n",
    "import pandas as pd\n",
    "import numpy as np"
   ],
   "outputs": [],
   "execution_count": 7
  },
  {
   "cell_type": "code",
   "metadata": {
    "ExecuteTime": {
     "end_time": "2024-06-30T11:59:46.918951Z",
     "start_time": "2024-06-30T11:59:46.895740Z"
    }
   },
   "source": [
    "with open('books_published_last_two_years.txt') as f:\n",
    "    recent_books = f.read().split('\\n')\n",
    "\n",
    "with open('all_coding_books.txt') as f:\n",
    "    coding_books = f.read().split('\\n')"
   ],
   "outputs": [],
   "execution_count": 8
  },
  {
   "cell_type": "code",
   "metadata": {
    "ExecuteTime": {
     "end_time": "2024-06-30T12:00:24.663895Z",
     "start_time": "2024-06-30T11:59:46.922937Z"
    }
   },
   "source": [
    "start = time.time()\n",
    "recent_coding_books = []\n",
    "\n",
    "for book in recent_books:\n",
    "    if book in coding_books:\n",
    "        recent_coding_books.append(book)\n",
    "\n",
    "print(len(recent_coding_books))\n",
    "print('Duration: {} seconds'.format(time.time() - start))"
   ],
   "outputs": [
    {
     "name": "stdout",
     "output_type": "stream",
     "text": [
      "96\n",
      "Duration: 37.731271505355835 seconds\n"
     ]
    }
   ],
   "execution_count": 9
  },
  {
   "cell_type": "markdown",
   "metadata": {},
   "source": [
    "### Tip #1: Use vector operations over loops when possible\n",
    "\n",
    "Use numpy's `intersect1d` method to get the intersection of the `recent_books` and `coding_books` arrays."
   ]
  },
  {
   "cell_type": "code",
   "metadata": {
    "ExecuteTime": {
     "end_time": "2024-06-30T12:00:24.748257Z",
     "start_time": "2024-06-30T12:00:24.666812Z"
    }
   },
   "source": [
    "start = time.time()\n",
    "recent_coding_books = np.intersect1d(recent_books, coding_books)\n",
    "print(len(recent_coding_books))\n",
    "print('Duration: {} seconds'.format(time.time() - start))"
   ],
   "outputs": [
    {
     "name": "stdout",
     "output_type": "stream",
     "text": [
      "96\n",
      "Duration: 0.060961246490478516 seconds\n"
     ]
    }
   ],
   "execution_count": 10
  },
  {
   "cell_type": "markdown",
   "metadata": {},
   "source": [
    "### Tip #2: Know your data structures and which methods are faster\n",
    "Use the set's `intersection` method to get the common elements in `recent_books` and `coding_books`."
   ]
  },
  {
   "cell_type": "code",
   "metadata": {
    "ExecuteTime": {
     "end_time": "2024-06-30T12:00:24.774496Z",
     "start_time": "2024-06-30T12:00:24.748257Z"
    }
   },
   "source": [
    "start = time.time()\n",
    "recent_books = set(recent_books)\n",
    "coding_books = set(coding_books)\n",
    "recent_coding_books =  recent_books.intersection(coding_books)\n",
    "print(len(recent_coding_books))\n",
    "print('Duration: {} seconds'.format(time.time() - start))"
   ],
   "outputs": [
    {
     "name": "stdout",
     "output_type": "stream",
     "text": [
      "96\n",
      "Duration: 0.021679162979125977 seconds\n"
     ]
    }
   ],
   "execution_count": 11
  }
 ],
 "metadata": {
  "kernelspec": {
   "display_name": "Python 3",
   "language": "python",
   "name": "python3"
  },
  "language_info": {
   "codemirror_mode": {
    "name": "ipython",
    "version": 3
   },
   "file_extension": ".py",
   "mimetype": "text/x-python",
   "name": "python",
   "nbconvert_exporter": "python",
   "pygments_lexer": "ipython3",
   "version": "3.6.3"
  }
 },
 "nbformat": 4,
 "nbformat_minor": 2
}
